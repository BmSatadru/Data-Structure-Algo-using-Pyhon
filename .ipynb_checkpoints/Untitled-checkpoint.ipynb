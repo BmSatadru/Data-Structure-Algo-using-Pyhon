{
 "cells": [
  {
   "cell_type": "markdown",
   "id": "2f1129e0",
   "metadata": {},
   "source": [
    "# Navie gcd"
   ]
  },
  {
   "cell_type": "code",
   "execution_count": 1,
   "id": "abc4e4bb",
   "metadata": {},
   "outputs": [],
   "source": [
    "# finding the gcd of two given numbers\n",
    "def gcd(a,b):\n",
    "    fm = []\n",
    "    for i in range(a):\n",
    "        if a%(i+1) == 0:\n",
    "            fm.append(i+1)\n",
    "    fn = []\n",
    "    for j in range(b):\n",
    "        if b%(j+1) == 0:\n",
    "           fn.append(j+1)\n",
    "    gcd_list = []\n",
    "    for k in fm:\n",
    "        if k in fn:\n",
    "            gcd_list.append(k)\n",
    "    return(gcd_list[-1])"
   ]
  },
  {
   "cell_type": "code",
   "execution_count": 2,
   "id": "158474a8",
   "metadata": {},
   "outputs": [
    {
     "data": {
      "text/plain": [
       "8"
      ]
     },
     "execution_count": 2,
     "metadata": {},
     "output_type": "execute_result"
    }
   ],
   "source": [
    "# ---- Checking the above is working properly or not  ------\n",
    "gcd(88, 48)"
   ]
  },
  {
   "cell_type": "markdown",
   "id": "882454ec",
   "metadata": {},
   "source": [
    "# Improved Naive gcd"
   ]
  },
  {
   "cell_type": "code",
   "execution_count": 3,
   "id": "07f13631",
   "metadata": {},
   "outputs": [],
   "source": [
    "def improved_gcd(a,b):\n",
    "    gcd_list1 =[]\n",
    "    for i in range(min(a,b)):\n",
    "        if (a%(i+1)== 0) & (b%(i+1) ==0):\n",
    "            gcd_list1.append(i+1)\n",
    "    return gcd_list1[-1]"
   ]
  },
  {
   "cell_type": "code",
   "execution_count": 4,
   "id": "e3490495",
   "metadata": {},
   "outputs": [
    {
     "data": {
      "text/plain": [
       "3"
      ]
     },
     "execution_count": 4,
     "metadata": {},
     "output_type": "execute_result"
    }
   ],
   "source": [
    "# ----- checking if this is working or not ----#\n",
    "improved_gcd(57, 96)"
   ]
  },
  {
   "cell_type": "markdown",
   "id": "a820441e",
   "metadata": {},
   "source": [
    "## a bit more improved gcd"
   ]
  },
  {
   "cell_type": "code",
   "execution_count": 5,
   "id": "714239d4",
   "metadata": {},
   "outputs": [],
   "source": [
    "def more_improved_gcd(a,b):\n",
    "    for i in range(min(a,b)):\n",
    "        if (a%(i+1) == 0) & (b%(i+1) ==0):\n",
    "            num = (i+1)\n",
    "    return num"
   ]
  },
  {
   "cell_type": "code",
   "execution_count": 6,
   "id": "c8f0be32",
   "metadata": {},
   "outputs": [
    {
     "data": {
      "text/plain": [
       "19"
      ]
     },
     "execution_count": 6,
     "metadata": {},
     "output_type": "execute_result"
    }
   ],
   "source": [
    "more_improved_gcd(57, 95)"
   ]
  },
  {
   "cell_type": "code",
   "execution_count": 7,
   "id": "31e6ea4a",
   "metadata": {},
   "outputs": [],
   "source": [
    "def sum_of(a,b):\n",
    "    n = a+b\n",
    "    return print(n)\n"
   ]
  },
  {
   "cell_type": "code",
   "execution_count": 8,
   "id": "f0d35740",
   "metadata": {},
   "outputs": [
    {
     "name": "stdout",
     "output_type": "stream",
     "text": [
      "30\n",
      "None\n"
     ]
    }
   ],
   "source": [
    "print(sum_of(10,20))"
   ]
  },
  {
   "cell_type": "code",
   "execution_count": 9,
   "id": "89a7cee0",
   "metadata": {},
   "outputs": [
    {
     "name": "stdout",
     "output_type": "stream",
     "text": [
      "30\n"
     ]
    }
   ],
   "source": [
    "sum_of(10,20)"
   ]
  },
  {
   "cell_type": "code",
   "execution_count": null,
   "id": "d360002c",
   "metadata": {},
   "outputs": [],
   "source": []
  }
 ],
 "metadata": {
  "kernelspec": {
   "display_name": "Python 3 (ipykernel)",
   "language": "python",
   "name": "python3"
  },
  "language_info": {
   "codemirror_mode": {
    "name": "ipython",
    "version": 3
   },
   "file_extension": ".py",
   "mimetype": "text/x-python",
   "name": "python",
   "nbconvert_exporter": "python",
   "pygments_lexer": "ipython3",
   "version": "3.9.12"
  }
 },
 "nbformat": 4,
 "nbformat_minor": 5
}
