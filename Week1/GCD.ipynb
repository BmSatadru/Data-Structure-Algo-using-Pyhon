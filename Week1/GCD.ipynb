{
 "cells": [
  {
   "cell_type": "markdown",
   "id": "59e4765f",
   "metadata": {},
   "source": [
    "# Naive gcd"
   ]
  },
  {
   "cell_type": "code",
   "execution_count": 1,
   "id": "abc4e4bb",
   "metadata": {},
   "outputs": [],
   "source": [
    "# finding the gcd of two given numbers\n",
    "def gcd(a,b):\n",
    "    fm = []\n",
    "    for i in range(a):\n",
    "        if a%(i+1) == 0:\n",
    "            fm.append(i+1)\n",
    "    fn = []\n",
    "    for j in range(b):\n",
    "        if b%(j+1) == 0:\n",
    "           fn.append(j+1)\n",
    "    gcd_list = []\n",
    "    for k in fm:\n",
    "        if k in fn:\n",
    "            gcd_list.append(k)\n",
    "    return(gcd_list[-1])"
   ]
  },
  {
   "cell_type": "code",
   "execution_count": 2,
   "id": "158474a8",
   "metadata": {},
   "outputs": [
    {
     "data": {
      "text/plain": [
       "8"
      ]
     },
     "execution_count": 2,
     "metadata": {},
     "output_type": "execute_result"
    }
   ],
   "source": [
    "# ---- Checking the above is working properly or not  ------\n",
    "\n",
    "gcd(88, 48)"
   ]
  },
  {
   "cell_type": "markdown",
   "id": "42d9b2d7",
   "metadata": {},
   "source": [
    "# Improved Naive gcd"
   ]
  },
  {
   "cell_type": "code",
   "execution_count": 3,
   "id": "5b1d5d2b",
   "metadata": {},
   "outputs": [],
   "source": [
    "def improved_gcd(a,b):\n",
    "    gcd_list1 =[]\n",
    "    for i in range(min(a,b)):\n",
    "        if (a%(i+1)== 0) & (b%(i+1) ==0):\n",
    "            gcd_list1.append(i+1)\n",
    "    return gcd_list1[-1]"
   ]
  },
  {
   "cell_type": "code",
   "execution_count": 4,
   "id": "a3790aa8",
   "metadata": {},
   "outputs": [
    {
     "data": {
      "text/plain": [
       "3"
      ]
     },
     "execution_count": 4,
     "metadata": {},
     "output_type": "execute_result"
    }
   ],
   "source": [
    "# ----- checking if this is working or not ----#\n",
    "improved_gcd(57, 96)"
   ]
  },
  {
   "cell_type": "markdown",
   "id": "7208d4ba",
   "metadata": {},
   "source": [
    "## a bit more improved gcd ~ No List"
   ]
  },
  {
   "cell_type": "code",
   "execution_count": 5,
   "id": "2e8da5fe",
   "metadata": {},
   "outputs": [],
   "source": [
    "def more_improved_gcd(a,b):\n",
    "    for i in range(min(a,b)):\n",
    "        if (a%(i+1) == 0) & (b%(i+1) ==0):\n",
    "            num = (i+1)\n",
    "    return num"
   ]
  },
  {
   "cell_type": "code",
   "execution_count": 6,
   "id": "6f149248",
   "metadata": {},
   "outputs": [
    {
     "data": {
      "text/plain": [
       "19"
      ]
     },
     "execution_count": 6,
     "metadata": {},
     "output_type": "execute_result"
    }
   ],
   "source": [
    "more_improved_gcd(57, 95)"
   ]
  },
  {
   "cell_type": "markdown",
   "id": "83673218",
   "metadata": {},
   "source": [
    "# Computing GCD backwards ~ Nolists"
   ]
  },
  {
   "cell_type": "code",
   "execution_count": 7,
   "id": "3f46d4ac",
   "metadata": {},
   "outputs": [],
   "source": [
    "def back_gcd(a,b):\n",
    "    i = min(a,b)\n",
    "    while i>0:\n",
    "        if ((a%i==0) & (b%i==0)):\n",
    "            return i  # execution of return means we exit the function\n",
    "        else:\n",
    "            i -=1"
   ]
  },
  {
   "cell_type": "code",
   "execution_count": 8,
   "id": "32775482",
   "metadata": {},
   "outputs": [
    {
     "data": {
      "text/plain": [
       "6"
      ]
     },
     "execution_count": 8,
     "metadata": {},
     "output_type": "execute_result"
    }
   ],
   "source": [
    "# checking if the code is working\n",
    "back_gcd(48,90)"
   ]
  },
  {
   "cell_type": "markdown",
   "id": "4b41ec56",
   "metadata": {},
   "source": [
    "# Euclid's Algorithm for gcd(a,b)"
   ]
  },
  {
   "cell_type": "code",
   "execution_count": 9,
   "id": "42acaddf",
   "metadata": {},
   "outputs": [],
   "source": [
    "# ----- gcd of a & b and gcd of a & (a-b) are same\n",
    "\n",
    "def euclid_gcd(a,b):\n",
    "    # we assuming b is smaller\n",
    "    if a<b:\n",
    "        (a,b) = (b,a)  # if b is greater then we alter the the sequence\n",
    "    if a%b ==0:\n",
    "        return b\n",
    "    else :\n",
    "        return euclid_gcd(max(b, a-b), min(b, a-b))"
   ]
  },
  {
   "cell_type": "code",
   "execution_count": 10,
   "id": "1baaac90",
   "metadata": {},
   "outputs": [
    {
     "data": {
      "text/plain": [
       "19"
      ]
     },
     "execution_count": 10,
     "metadata": {},
     "output_type": "execute_result"
    }
   ],
   "source": [
    "euclid_gcd(57, 95)"
   ]
  },
  {
   "cell_type": "code",
   "execution_count": null,
   "id": "87d109bb",
   "metadata": {},
   "outputs": [],
   "source": []
  }
 ],
 "metadata": {
  "kernelspec": {
   "display_name": "Python 3 (ipykernel)",
   "language": "python",
   "name": "python3"
  },
  "language_info": {
   "codemirror_mode": {
    "name": "ipython",
    "version": 3
   },
   "file_extension": ".py",
   "mimetype": "text/x-python",
   "name": "python",
   "nbconvert_exporter": "python",
   "pygments_lexer": "ipython3",
   "version": "3.9.12"
  }
 },
 "nbformat": 4,
 "nbformat_minor": 5
}
