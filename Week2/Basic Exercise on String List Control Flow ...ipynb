{
 "cells": [
  {
   "cell_type": "code",
   "execution_count": 1,
   "id": "0b626f5c",
   "metadata": {},
   "outputs": [
    {
     "name": "stdout",
     "output_type": "stream",
     "text": [
      "list1 and list 2 are different names pointing towards the same list:- True\n",
      "list1 and list 2 are different names pointing towards the same list:- True\n",
      "list1 and list3 are different names with different lists, but these lists have the same eleents:- False\n"
     ]
    }
   ],
   "source": [
    "# x==y checks if x & y have the same value\n",
    "# x is y checks if x & y are reffering the same object\n",
    "list1 = [1,3,5,7]\n",
    "list2 = list1\n",
    "#print(list2)\n",
    "\n",
    "list3 = [1,3,5,7]\n",
    "\n",
    "print(\"list1 and list 2 are different names pointing towards the same list:-\", list1 is list2)\n",
    "\n",
    "print(\"list1 and list 2 are different names pointing towards the same list:-\", list2 is list1)\n",
    "\n",
    "print(\"list1 and list3 are different names with different lists, but these lists have the same eleents:-\", list1 is list3)"
   ]
  },
  {
   "cell_type": "code",
   "execution_count": 2,
   "id": "76a8f5d9",
   "metadata": {},
   "outputs": [
    {
     "name": "stdout",
     "output_type": "stream",
     "text": [
      "list4 and list1 are not reffering the same object, they are different list which\n",
      "have same element: False\n"
     ]
    }
   ],
   "source": [
    "list4 = list1[:]\n",
    "print(\"list4 and list1 are not reffering the same object, they are different list which\\nhave same element:\", list1 is list4)"
   ]
  },
  {
   "cell_type": "code",
   "execution_count": 3,
   "id": "34cc9f28",
   "metadata": {},
   "outputs": [
    {
     "name": "stdout",
     "output_type": "stream",
     "text": [
      "values of list1:  [1, 3, 5, 67]\n",
      "values of list4:  [1, 3, 5, 7]\n"
     ]
    }
   ],
   "source": [
    "list2[3] = 67\n",
    "# checking, chaning of list2 is affecting list1 or not\n",
    "print(\"values of list1: \",list1) # it does effect as list1 & list2 both are pointing towards the same object\n",
    "# checking if list4 is effected or not\n",
    "print(\"values of list4: \",list4) # list 4 is no effected, as list4 and list2 are different list(or object) with same element"
   ]
  },
  {
   "cell_type": "markdown",
   "id": "f6d4586b",
   "metadata": {},
   "source": [
    "# Introducing recursion "
   ]
  },
  {
   "cell_type": "code",
   "execution_count": 4,
   "id": "64f7aaf0",
   "metadata": {},
   "outputs": [
    {
     "data": {
      "text/plain": [
       "24"
      ]
     },
     "execution_count": 4,
     "metadata": {},
     "output_type": "execute_result"
    }
   ],
   "source": [
    "# factorial\n",
    "def factorial(n):\n",
    "    if n<0:\n",
    "        print(\"Factorial is not defined\")\n",
    "    elif n==0:\n",
    "        return 1\n",
    "    elif n==1:\n",
    "        return n\n",
    "    else:\n",
    "        return n*factorial(n-1)\n",
    "\n",
    "# checking if the function is wotking or not\n",
    "factorial(4)"
   ]
  },
  {
   "cell_type": "code",
   "execution_count": 5,
   "id": "30c87f41",
   "metadata": {},
   "outputs": [
    {
     "data": {
      "text/plain": [
       "36.0"
      ]
     },
     "execution_count": 5,
     "metadata": {},
     "output_type": "execute_result"
    }
   ],
   "source": [
    "# combination ~ ncr\n",
    "def combination(n, r):\n",
    "    if n>=r:\n",
    "        if (r<0):\n",
    "            print(\"Combination is not defined\")\n",
    "        elif (r==0 or n==r):\n",
    "            return 1\n",
    "        else:\n",
    "            return (factorial(n)/(factorial(r)*factorial(n-r)))\n",
    "    else:\n",
    "        print(\"Combination is not defined\")\n",
    "# checking if the function is working or not\n",
    "combination(9,2)"
   ]
  },
  {
   "cell_type": "code",
   "execution_count": 6,
   "id": "4dc4a942",
   "metadata": {},
   "outputs": [
    {
     "name": "stdout",
     "output_type": "stream",
     "text": [
      "Process is not defined\n"
     ]
    }
   ],
   "source": [
    "# power function using recursion\n",
    "def power(a,b):\n",
    "    x = type(a) and a>=0\n",
    "    y = type(b) and b>=1\n",
    "    if (x and y):\n",
    "        if (b==1):\n",
    "            return a\n",
    "        else:\n",
    "            return a*power(a, b-1)\n",
    "    else:\n",
    "        print(\"Process is not defined\")\n",
    "    # checking if the function is working or not\n",
    "power(2,-3)            "
   ]
  },
  {
   "cell_type": "code",
   "execution_count": null,
   "id": "6d5ba1c3",
   "metadata": {},
   "outputs": [],
   "source": []
  }
 ],
 "metadata": {
  "kernelspec": {
   "display_name": "Python 3 (ipykernel)",
   "language": "python",
   "name": "python3"
  },
  "language_info": {
   "codemirror_mode": {
    "name": "ipython",
    "version": 3
   },
   "file_extension": ".py",
   "mimetype": "text/x-python",
   "name": "python",
   "nbconvert_exporter": "python",
   "pygments_lexer": "ipython3",
   "version": "3.9.7"
  }
 },
 "nbformat": 4,
 "nbformat_minor": 5
}
