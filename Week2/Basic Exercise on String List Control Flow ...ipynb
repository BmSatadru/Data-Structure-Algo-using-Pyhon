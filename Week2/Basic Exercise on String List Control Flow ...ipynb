{
 "cells": [
  {
   "cell_type": "code",
   "execution_count": 1,
   "id": "0b626f5c",
   "metadata": {},
   "outputs": [
    {
     "name": "stdout",
     "output_type": "stream",
     "text": [
      "list1 and list 2 are different names pointing towards the same list:- True\n",
      "list1 and list 2 are different names pointing towards the same list:- True\n",
      "list1 and list3 are different names with different lists, but these lists have the same eleents:- False\n"
     ]
    }
   ],
   "source": [
    "# x==y checks if x & y have the same value\n",
    "# x is y checks if x & y are reffering the same object\n",
    "list1 = [1,3,5,7]\n",
    "list2 = list1\n",
    "#print(list2)\n",
    "\n",
    "list3 = [1,3,5,7]\n",
    "\n",
    "print(\"list1 and list 2 are different names pointing towards the same list:-\", list1 is list2)\n",
    "\n",
    "print(\"list1 and list 2 are different names pointing towards the same list:-\", list2 is list1)\n",
    "\n",
    "print(\"list1 and list3 are different names with different lists, but these lists have the same eleents:-\", list1 is list3)"
   ]
  },
  {
   "cell_type": "code",
   "execution_count": 2,
   "id": "76a8f5d9",
   "metadata": {},
   "outputs": [
    {
     "name": "stdout",
     "output_type": "stream",
     "text": [
      "list4 and list1 are not reffering the same object, they are different list which\n",
      "have same element: False\n"
     ]
    }
   ],
   "source": [
    "list4 = list1[:]\n",
    "print(\"list4 and list1 are not reffering the same object, they are different list which\\nhave same element:\", list1 is list4)"
   ]
  },
  {
   "cell_type": "code",
   "execution_count": 3,
   "id": "34cc9f28",
   "metadata": {},
   "outputs": [
    {
     "name": "stdout",
     "output_type": "stream",
     "text": [
      "values of list1:  [1, 3, 5, 67]\n",
      "values of list4:  [1, 3, 5, 7]\n"
     ]
    }
   ],
   "source": [
    "list2[3] = 67\n",
    "# checking, chaning of list2 is affecting list1 or not\n",
    "print(\"values of list1: \",list1) # it does effect as list1 & list2 both are pointing towards the same object\n",
    "# checking if list4 is effected or not\n",
    "print(\"values of list4: \",list4) # list 4 is no effected, as list4 and list2 are different list(or object) with same element"
   ]
  },
  {
   "cell_type": "markdown",
   "id": "3603bb53",
   "metadata": {},
   "source": [
    "# Introducing recursion "
   ]
  },
  {
   "cell_type": "code",
   "execution_count": 4,
   "id": "9d7f80cb",
   "metadata": {},
   "outputs": [
    {
     "data": {
      "text/plain": [
       "24"
      ]
     },
     "execution_count": 4,
     "metadata": {},
     "output_type": "execute_result"
    }
   ],
   "source": [
    "# factorial\n",
    "def factorial(n):\n",
    "    if n<0:\n",
    "        print(\"Factorial is not defined\")\n",
    "    elif n==0:\n",
    "        return 1\n",
    "    elif n==1:\n",
    "        return n\n",
    "    else:\n",
    "        return n*factorial(n-1)\n",
    "\n",
    "# checking if the function is wotking or not\n",
    "factorial(4)"
   ]
  },
  {
   "cell_type": "code",
   "execution_count": 5,
   "id": "20ca6f09",
   "metadata": {},
   "outputs": [
    {
     "data": {
      "text/plain": [
       "36.0"
      ]
     },
     "execution_count": 5,
     "metadata": {},
     "output_type": "execute_result"
    }
   ],
   "source": [
    "# combination ~ ncr\n",
    "def combination(n, r):\n",
    "    if n>=r:\n",
    "        if (r<0):\n",
    "            print(\"Combination is not defined\")\n",
    "        elif (r==0 or n==r):\n",
    "            return 1\n",
    "        else:\n",
    "            return (factorial(n)/(factorial(r)*factorial(n-r)))\n",
    "    else:\n",
    "        print(\"Combination is not defined\")\n",
    "# checking if the function is working or not\n",
    "combination(9,2)"
   ]
  },
  {
   "cell_type": "code",
   "execution_count": 7,
   "id": "ba7df6e9",
   "metadata": {},
   "outputs": [
    {
     "data": {
      "text/plain": [
       "343"
      ]
     },
     "execution_count": 7,
     "metadata": {},
     "output_type": "execute_result"
    }
   ],
   "source": [
    "# power function using recursion\n",
    "def power(a,b):\n",
    "    x = type(a) and a>=0\n",
    "    y = type(b) and b>=1\n",
    "    if (x and y):\n",
    "        if (b==1):\n",
    "            return a\n",
    "        else:\n",
    "            return a*power(a, b-1)\n",
    "    else:\n",
    "        print(\"Process is not defined\")\n",
    "    # checking if the function is working or not\n",
    "power(7,3)            "
   ]
  },
  {
   "cell_type": "markdown",
   "id": "10ef31e8",
   "metadata": {},
   "source": [
    "# Fibonacci Sequence"
   ]
  },
  {
   "cell_type": "code",
   "execution_count": 17,
   "id": "d1adc11c",
   "metadata": {},
   "outputs": [
    {
     "data": {
      "text/plain": [
       "34"
      ]
     },
     "execution_count": 17,
     "metadata": {},
     "output_type": "execute_result"
    }
   ],
   "source": [
    "def fibo(n):# this n denotes that we want the nth number in the fibonacci sequence\n",
    "    if n>0:\n",
    "        if n ==1:\n",
    "            return 0\n",
    "        elif n==2:\n",
    "            return 1\n",
    "        else:\n",
    "            return (fibo(n-1) + fibo(n-2))\n",
    "    else:\n",
    "        print(\"Sequence is not defined\")\n",
    "fibo(10)"
   ]
  },
  {
   "cell_type": "code",
   "execution_count": 30,
   "id": "19a9b9f6",
   "metadata": {},
   "outputs": [],
   "source": [
    "# getting the first 10 fibonacci number in a dictionary\n",
    "def get_fibo(n):\n",
    "    d_fibo = []\n",
    "    for i in range(1, n+1):\n",
    "        d_fibo.append(fibo(i))\n",
    "    return d_fibo"
   ]
  },
  {
   "cell_type": "code",
   "execution_count": 31,
   "id": "1e80bee0",
   "metadata": {},
   "outputs": [
    {
     "data": {
      "text/plain": [
       "[0, 1, 1, 2, 3, 5, 8, 13, 21, 34]"
      ]
     },
     "execution_count": 31,
     "metadata": {},
     "output_type": "execute_result"
    }
   ],
   "source": [
    "# checking that the code is working or not\n",
    "get_fibo(10)"
   ]
  },
  {
   "cell_type": "code",
   "execution_count": 38,
   "id": "9e78f6fa",
   "metadata": {},
   "outputs": [
    {
     "data": {
      "text/plain": [
       "46368"
      ]
     },
     "execution_count": 38,
     "metadata": {},
     "output_type": "execute_result"
    }
   ],
   "source": [
    "# getting the 25th number in the fibinacci sequence\n",
    "get_fibo(25)[-1]"
   ]
  },
  {
   "cell_type": "code",
   "execution_count": null,
   "id": "ede4a4db",
   "metadata": {},
   "outputs": [],
   "source": []
  }
 ],
 "metadata": {
  "kernelspec": {
   "display_name": "Python 3 (ipykernel)",
   "language": "python",
   "name": "python3"
  },
  "language_info": {
   "codemirror_mode": {
    "name": "ipython",
    "version": 3
   },
   "file_extension": ".py",
   "mimetype": "text/x-python",
   "name": "python",
   "nbconvert_exporter": "python",
   "pygments_lexer": "ipython3",
   "version": "3.9.7"
  }
 },
 "nbformat": 4,
 "nbformat_minor": 5
}
