{
 "cells": [
  {
   "cell_type": "code",
   "execution_count": 1,
   "id": "2f3a0a0e",
   "metadata": {},
   "outputs": [
    {
     "name": "stdout",
     "output_type": "stream",
     "text": [
      "['t', 't', 't']\n",
      "['Sa', 'adru Bha', '', 'acharya']\n",
      "['Satadru Bha', 'acharya']\n",
      "['', 'S', 'a', 't', 'a', 'd', 'r', 'u', ' ', 'B', 'h', 'a', 't', 't', 'a', 'c', 'h', 'a', 'r', 'y', 'a', '']\n",
      "['Satadru', 'Bhattacharya']\n",
      "['Sa', 'adru Bhattacharya']\n"
     ]
    }
   ],
   "source": [
    "import re\n",
    "#findall\n",
    "#split\n",
    "#search\n",
    "#sub\n",
    "\n",
    "## ---------------------- findall-----------------------##\n",
    "s = \"Satadru Bhattacharya\"\n",
    "print(re.findall('t', s)) \n",
    "## ------------------------------ split-----------------##\n",
    "print(re.split('t', s))\n",
    "print(re.split('tt', s))\n",
    "print(re.split('', s))\n",
    "print(re.split(' ', s))\n",
    "print(re.split('t', s, 1 )) # instead of returning 3 elements in the list it will return 2 element in the list\n"
   ]
  },
  {
   "cell_type": "code",
   "execution_count": 2,
   "id": "79482b24",
   "metadata": {},
   "outputs": [
    {
     "data": {
      "text/plain": [
       "['',\n",
       " 'S',\n",
       " 'a',\n",
       " '',\n",
       " 'a',\n",
       " 'd',\n",
       " 'r',\n",
       " 'u',\n",
       " ' ',\n",
       " 'B',\n",
       " 'h',\n",
       " 'a',\n",
       " '',\n",
       " 'a',\n",
       " 'c',\n",
       " 'h',\n",
       " 'a',\n",
       " 'r',\n",
       " 'y',\n",
       " 'a',\n",
       " '']"
      ]
     },
     "execution_count": 2,
     "metadata": {},
     "output_type": "execute_result"
    }
   ],
   "source": [
    "re.split('t*', s)\n"
   ]
  },
  {
   "cell_type": "code",
   "execution_count": 3,
   "id": "0bb1a2e0",
   "metadata": {},
   "outputs": [
    {
     "name": "stdout",
     "output_type": "stream",
     "text": [
      "<re.Match object; span=(2, 4), match='ta'>\n",
      "<class 're.Match'>\n",
      "2\n",
      "4\n",
      "(2, 4)\n",
      "<class 'tuple'>\n"
     ]
    },
    {
     "data": {
      "text/plain": [
       "'Satadru Bhattacharya'"
      ]
     },
     "execution_count": 3,
     "metadata": {},
     "output_type": "execute_result"
    }
   ],
   "source": [
    "x = re.search('ta', s) # return first occurrence, \n",
    "print(x) # this is printing an object\n",
    "print(type(x)) # clearly this is not any string, tuple etc, it is returnung match object.\n",
    "print(x.start())\n",
    "print(x.end())\n",
    "print(x.span()) \n",
    "print(type(x.span()))\n",
    "x.string"
   ]
  },
  {
   "cell_type": "code",
   "execution_count": 4,
   "id": "354abd27",
   "metadata": {},
   "outputs": [
    {
     "name": "stdout",
     "output_type": "stream",
     "text": [
      "SAtAdru BhAttAchAryA\n",
      "SAtAdru BhAttacharya\n"
     ]
    }
   ],
   "source": [
    "print(re.sub('a', 'A', s)) # the previous string is being changed , that means 'a' in s is remaining small .\n",
    "# so what I am trying to convey that re.string is not changing the old string\n",
    "print(re.sub('a', 'A', s, 3)) # cnvert only first 3 'a' in s"
   ]
  },
  {
   "cell_type": "markdown",
   "id": "7c871f98",
   "metadata": {},
   "source": [
    "## Meta Character - Special Sequence - Sets"
   ]
  },
  {
   "cell_type": "code",
   "execution_count": 5,
   "id": "51616ccc",
   "metadata": {},
   "outputs": [],
   "source": [
    "## --------------------- What are these meta characters ??  -----------##\n",
    "# [] - returns a match if the string contains pattern/characters specified in []\n",
    "# ^ - returns the match if string starts with the given input\n",
    "# $ - returns the match if the string ends with given input\n",
    "# . - it will accept any character except new line\n",
    "# * - It will return a match if theres is any zero or more occurrences of the given pattern\n",
    "# + - One or more occurences of the given pattern\n",
    "# {} - It will return a match if it contains specified number of occurrences\n",
    "# / - Special Sequences\n",
    "\n",
    "## --------------- Special sequences --------------##\n",
    "# \\d - if given string having a digits\n",
    "# \\D - returns a match, if given string does not have digits\n",
    "# \\w - return a match if given string having word characters\n",
    "# \\W - returns a match, if given string does not have any word characters\n",
    "# \\s - returns a match if given string have spaces\n",
    "# \\S - does not have any spaces\n",
    "# \\z - ends with specified characters\n",
    "\n",
    "## --------------------- sets --------------##\n",
    "# [abc] - return a match if string contains any of the specified characters\n",
    "# [a-z] - return a match if string contain any character in the specifies range\n",
    "# [^abc] - return a match if string contains character except specified characters\n",
    "# [567] - same as above\n",
    "# [0-9] - same as above\n",
    "# [0-9][0-9] - return a match, if string contain two digit number from 00 to 99\n"
   ]
  },
  {
   "cell_type": "code",
   "execution_count": 23,
   "id": "48221236",
   "metadata": {},
   "outputs": [
    {
     "name": "stdout",
     "output_type": "stream",
     "text": [
      "Using findall:  ['I']\n",
      "Using findall:  []\n",
      "Using findall:  ['I']\n",
      "Using findall:  ['I']\n"
     ]
    }
   ],
   "source": [
    "## --------------- Using Meta character ^-----------##\n",
    "###=============== Using findall =========###\n",
    "s1 = [\"I am human\", \"Currently I am Regexing\", \"I love coding\", \"I love data science\"]\n",
    "for i in s1:\n",
    "    s1_new=re.findall(\"^I\", i)\n",
    "    print(\"Using findall: \", s1_new)\n"
   ]
  },
  {
   "cell_type": "code",
   "execution_count": 7,
   "id": "a0fe56c7",
   "metadata": {},
   "outputs": [
    {
     "name": "stdout",
     "output_type": "stream",
     "text": [
      "using search:  <re.Match object; span=(0, 1), match='I'>\n",
      "using search:  None\n",
      "using search:  <re.Match object; span=(0, 1), match='I'>\n",
      "using search:  <re.Match object; span=(0, 1), match='I'>\n"
     ]
    }
   ],
   "source": [
    "## --------------- Using Meta character ^-----------##\n",
    "###=============== Using search =========###\n",
    "s1 = [\"I am human\", \"Currently I am Regexing\", \"I love coding\", \"I love data science\"]\n",
    "for i in s1:\n",
    "    s1_new=re.search(\"^I\", i)\n",
    "    print(\"using search: \", s1_new)\n",
    "#   print(s.start())\n",
    "#   print(s.end())\n",
    "#   print(s.span())"
   ]
  },
  {
   "cell_type": "code",
   "execution_count": 24,
   "id": "e905c3ea",
   "metadata": {},
   "outputs": [
    {
     "name": "stdout",
     "output_type": "stream",
     "text": [
      "['', ' am human']\n",
      "['Currently I am Regexing']\n",
      "['', ' love coding']\n",
      "['', ' love data science']\n"
     ]
    }
   ],
   "source": [
    "## --------------- Using Meta character ^-----------##\n",
    "### ============== Using split===========###\n",
    "s1 = [\"I am human\", \"Currently I am Regexing\", \"I love coding\", \"I love data science\"]\n",
    "for i in s1:\n",
    "    s1_new=re.split(\"^I\",i)\n",
    "    print(s1_new)"
   ]
  },
  {
   "cell_type": "code",
   "execution_count": 25,
   "id": "efc79939",
   "metadata": {},
   "outputs": [
    {
     "name": "stdout",
     "output_type": "stream",
     "text": [
      "Using sub:  You am human\n",
      "Using sub:  Currently I am Regexing\n",
      "Using sub:  You love coding\n",
      "Using sub:  You love data science\n"
     ]
    }
   ],
   "source": [
    "### ============= Using sub =============###\n",
    "s1 = [\"I am human\", \"Currently I am Regexing\", \"I love coding\", \"I love data science\"]\n",
    "for i in s1:\n",
    "    s1_new=re.sub(\"^I\",\"You\", i)\n",
    "    print(\"Using sub: \",s1_new)"
   ]
  },
  {
   "cell_type": "code",
   "execution_count": 9,
   "id": "87f52863",
   "metadata": {},
   "outputs": [
    {
     "name": "stdout",
     "output_type": "stream",
     "text": [
      "Using findall:  []\n",
      "Using findall:  ['g']\n",
      "Using findall:  ['g']\n",
      "Using findall:  []\n"
     ]
    }
   ],
   "source": [
    "## ----------------- Meta Character $ ---------------##\n",
    "\n",
    "###=============== Using findall =========###\n",
    "\n",
    "s1 = [\"I am human\", \"Currently I am Regexing\", \"I love coding\", \"I love data science\"]\n",
    "for i in s1:\n",
    "    s1_new=re.findall(\"g$\", i)\n",
    "    print(\"Using findall: \", s1_new)"
   ]
  },
  {
   "cell_type": "code",
   "execution_count": 10,
   "id": "83ccb656",
   "metadata": {},
   "outputs": [
    {
     "name": "stdout",
     "output_type": "stream",
     "text": [
      "using search:  None\n",
      "using search:  <re.Match object; span=(22, 23), match='g'>\n",
      "using search:  <re.Match object; span=(12, 13), match='g'>\n",
      "using search:  None\n"
     ]
    }
   ],
   "source": [
    "## ----------------- Meta Character $ ---------------##    \n",
    "###=============== Using search =========###\n",
    "\n",
    "s1 = [\"I am human\", \"Currently I am Regexing\", \"I love coding\", \"I love data science\"]\n",
    "for i in s1:\n",
    "    s1_new=re.search(\"g$\", i)\n",
    "    print(\"using search: \", s1_new)"
   ]
  },
  {
   "cell_type": "code",
   "execution_count": 11,
   "id": "b7ff7a78",
   "metadata": {},
   "outputs": [
    {
     "name": "stdout",
     "output_type": "stream",
     "text": [
      "using split:  ['I am human']\n",
      "using split:  ['Currently I am Regexin', '']\n",
      "using split:  ['I love codin', '']\n",
      "using split:  ['I love data science']\n"
     ]
    }
   ],
   "source": [
    "## ----------------- Meta Character $ ---------------##    \n",
    "###=============== Using split =========###\n",
    "\n",
    "s1 = [\"I am human\", \"Currently I am Regexing\", \"I love coding\", \"I love data science\"]\n",
    "for i in s1:\n",
    "    s1_new=re.split(\"g$\", i)\n",
    "    print(\"using split: \", s1_new)"
   ]
  },
  {
   "cell_type": "code",
   "execution_count": 12,
   "id": "70fd92c3",
   "metadata": {},
   "outputs": [
    {
     "name": "stdout",
     "output_type": "stream",
     "text": [
      "using sub:  I am human\n",
      "using sub:  Currently I am RegexinHI\n",
      "using sub:  I love codinHI\n",
      "using sub:  I love data science\n"
     ]
    }
   ],
   "source": [
    "## ----------------- Meta Character $ ---------------##    \n",
    "###=============== Using sub =========###\n",
    "\n",
    "s1 = [\"I am human\", \"Currently I am Regexing\", \"I love coding\", \"I love data science\"]\n",
    "for i in s1:\n",
    "    s1_new=re.sub(\"g$\", 'HI', i)\n",
    "    print(\"using sub: \",s1_new)"
   ]
  },
  {
   "cell_type": "code",
   "execution_count": 13,
   "id": "9418ee18",
   "metadata": {},
   "outputs": [
    {
     "name": "stdout",
     "output_type": "stream",
     "text": [
      "Three characters before ing: -- using findall--  []\n",
      "Three characters before ing: -- using findall--  ['gexing']\n",
      "Three characters before ing: -- using findall--  ['coding']\n",
      "Three characters before ing: -- using findall--  []\n",
      "Two characters before ing: -- using findall--  []\n",
      "Two characters before ing: -- using findall--  ['exing']\n",
      "Two characters before ing: -- using findall--  ['oding']\n",
      "Two characters before ing: -- using findall--  []\n",
      "Three characters after I: -- using findall--  ['I am']\n",
      "Three characters after I: -- using findall--  ['I am']\n",
      "Three characters after I: -- using findall--  ['I lo']\n",
      "Three characters after I: -- using findall--  ['I lo']\n"
     ]
    }
   ],
   "source": [
    "## ------------------------ Using Meta character  .   ------------------##\n",
    "### =================== using findall ================###\n",
    "s1 = [\"I am human\", \"Currently I am Regexing\", \"I love coding\", \"I love data science\"]\n",
    "for i in s1:\n",
    "    s1_new=re.findall(\"...ing\", i) # these dots can also be placed after, here we are getting three characters before ing\n",
    "    print(\"Three characters before ing: -- using findall-- \", s1_new)\n",
    "\n",
    "s1 = [\"I am human\", \"Currently I am Regexing\", \"I love coding\", \"I love data science\"]\n",
    "for i in s1:\n",
    "    s1_new=re.findall(\"..ing\", i) # we are getting two characters before ing\n",
    "    print(\"Two characters before ing: -- using findall-- \", s1_new)\n",
    "\n",
    "s1 = [\"I am human\", \"Currently I am Regexing\", \"I love coding\", \"I love data science\"]\n",
    "for i in s1:\n",
    "    s1_new=re.findall(\"I...\", i) # notice here dots are being placed after & after I we are getting 3 characters\n",
    "    print(\"Three characters after I: -- using findall-- \", s1_new)"
   ]
  },
  {
   "cell_type": "code",
   "execution_count": 14,
   "id": "9fe98bad",
   "metadata": {},
   "outputs": [
    {
     "name": "stdout",
     "output_type": "stream",
     "text": [
      "Three characters before ing: -- using search--  None\n",
      "Three characters before ing: -- using search--  <re.Match object; span=(17, 23), match='gexing'>\n",
      "Three characters before ing: -- using search--  <re.Match object; span=(7, 13), match='coding'>\n",
      "Three characters before ing: -- using search--  None\n",
      "Two characters before ing: -- using search--   None\n",
      "Two characters before ing: -- using search--   <re.Match object; span=(18, 23), match='exing'>\n",
      "Two characters before ing: -- using search--   <re.Match object; span=(8, 13), match='oding'>\n",
      "Two characters before ing: -- using search--   None\n",
      "Three characters after I: -- using search--   <re.Match object; span=(0, 4), match='I am'>\n",
      "Three characters after I: -- using search--   <re.Match object; span=(10, 14), match='I am'>\n",
      "Three characters after I: -- using search--   <re.Match object; span=(0, 4), match='I lo'>\n",
      "Three characters after I: -- using search--   <re.Match object; span=(0, 4), match='I lo'>\n"
     ]
    }
   ],
   "source": [
    "## ------------------------ Using Meta character  .   ------------------##\n",
    "  \n",
    "### =================== using search ==================###\n",
    "\n",
    "s1 = [\"I am human\", \"Currently I am Regexing\", \"I love coding\", \"I love data science\"]\n",
    "for i in s1:\n",
    "    s1_new=re.search(\"...ing\", i) # these dots can also be placed after, here we are getting three characters before ing\n",
    "    print(\"Three characters before ing: -- using search-- \", s1_new)\n",
    "\n",
    "s1 = [\"I am human\", \"Currently I am Regexing\", \"I love coding\", \"I love data science\"]\n",
    "for i in s1:\n",
    "    s1_new=re.search(\"..ing\", i) # we are getting two characters before ing\n",
    "    print(\"Two characters before ing: -- using search--  \", s1_new)\n",
    "\n",
    "s1 = [\"I am human\", \"Currently I am Regexing\", \"I love coding\", \"I love data science\"]\n",
    "for i in s1:\n",
    "    s1_new=re.search(\"I...\", i) # notice here dots are being placed after & after I we are getting 3 characters\n",
    "    print(\"Three characters after I: -- using search--  \", s1_new)"
   ]
  },
  {
   "cell_type": "code",
   "execution_count": 15,
   "id": "3547a693",
   "metadata": {},
   "outputs": [
    {
     "name": "stdout",
     "output_type": "stream",
     "text": [
      "Three characters before ing: -- using split--   ['I am human']\n",
      "Three characters before ing: -- using split--   ['Currently I am Re', '']\n",
      "Three characters before ing: -- using split--   ['I love ', '']\n",
      "Three characters before ing: -- using split--   ['I love data science']\n",
      "Two characters before ing: -- using split--   ['I am human']\n",
      "Two characters before ing: -- using split--   ['Currently I am Reg', '']\n",
      "Two characters before ing: -- using split--   ['I love c', '']\n",
      "Two characters before ing: -- using split--   ['I love data science']\n",
      "Three characters after I: -- using split--   ['', ' human']\n",
      "Three characters after I: -- using split--   ['Currently ', ' Regexing']\n",
      "Three characters after I: -- using split--   ['', 've coding']\n",
      "Three characters after I: -- using split--   ['', 've data science']\n"
     ]
    }
   ],
   "source": [
    "## ------------------------ Using Meta character  .   ------------------##\n",
    "    \n",
    "### =================== using split ===================###\n",
    "\n",
    "s1 = [\"I am human\", \"Currently I am Regexing\", \"I love coding\", \"I love data science\"]\n",
    "for i in s1:\n",
    "    s1_new=re.split(\"...ing\", i) # these dots can also be placed after, here we are getting three characters before ing\n",
    "    print(\"Three characters before ing: -- using split--  \", s1_new)\n",
    "\n",
    "s1 = [\"I am human\", \"Currently I am Regexing\", \"I love coding\", \"I love data science\"]\n",
    "for i in s1:\n",
    "    s1_new=re.split(\"..ing\", i) # we are getting two characters before ing\n",
    "    print(\"Two characters before ing: -- using split--  \", s1_new)\n",
    "\n",
    "s1 = [\"I am human\", \"Currently I am Regexing\", \"I love coding\", \"I love data science\"]\n",
    "for i in s1:\n",
    "    s1_new=re.split(\"I...\", i) # notice here dots are being place after & after I we are getting 3 characters\n",
    "    print(\"Three characters after I: -- using split--  \", s1_new)"
   ]
  },
  {
   "cell_type": "code",
   "execution_count": 16,
   "id": "988640ee",
   "metadata": {},
   "outputs": [
    {
     "name": "stdout",
     "output_type": "stream",
     "text": [
      "Three characters before: -- using sub--   I am human\n",
      "Three characters before: -- using sub--   Currently I am ReHIKING\n",
      "Three characters before: -- using sub--   I love HIKING\n",
      "Three characters before: -- using sub--   I love data science\n",
      "Two characters before: -- using sub--    I am human\n",
      "Two characters before: -- using sub--    Currently I am RegHIKING\n",
      "Two characters before: -- using sub--    I love cHIKING\n",
      "Two characters before: -- using sub--    I love data science\n",
      "Three characters after I: -- using sub--   HIKING human\n",
      "Three characters after I: -- using sub--   Currently HIKING Regexing\n",
      "Three characters after I: -- using sub--   HIKINGve coding\n",
      "Three characters after I: -- using sub--   HIKINGve data science\n"
     ]
    }
   ],
   "source": [
    "## ------------------------ Using Meta character  .   ------------------##\n",
    "    \n",
    "### =================== using sub =====================###\n",
    "\n",
    "s1 = [\"I am human\", \"Currently I am Regexing\", \"I love coding\", \"I love data science\"]\n",
    "for i in s1:\n",
    "    s1_new=re.sub(\"...ing\", \"HIKING\", i) # these dots can also be placed after, here we are getting three characters before ing\n",
    "    print(\"Three characters before: -- using sub--  \", s1_new)\n",
    "\n",
    "s1 = [\"I am human\", \"Currently I am Regexing\", \"I love coding\", \"I love data science\"]\n",
    "for i in s1:\n",
    "    s1_new=re.sub(\"..ing\", \"HIKING\", i) # we are getting two characters before ing\n",
    "    print(\"Two characters before: -- using sub--   \", s1_new)\n",
    "\n",
    "s1 = [\"I am human\", \"Currently I am Regexing\", \"I love coding\", \"I love data science\"]\n",
    "for i in s1:\n",
    "    s1_new=re.sub(\"I...\", \"HIKING\", i) # notice here dots are being place after & after I we are getting 3 characters\n",
    "    print(\"Three characters after I: -- using sub--  \", s1_new)"
   ]
  },
  {
   "cell_type": "markdown",
   "id": "0b4ac789",
   "metadata": {},
   "source": [
    "##### meta character  *   is the trickiest till now while applying findall, sub, search, split etc"
   ]
  },
  {
   "cell_type": "code",
   "execution_count": 17,
   "id": "2a6169fd",
   "metadata": {},
   "outputs": [
    {
     "name": "stdout",
     "output_type": "stream",
     "text": [
      "using findall:  ['', '', '', 'm', '', '', '', 'm', '', '', '']\n",
      "using findall:  ['', '', '', '', '', '', '', '', '', '', '', '', '', 'mm', '', '', '', '', '', '', '', '', '', '']\n",
      "using findall:  ['', '', '', '', '', '', '', '', '', '', '', '', '', '']\n",
      "using findall:  ['', '', '', '', '', '', '', '', '', '', '', '', '', '', '', '', '', '', '', '']\n",
      "using findall:  ['', '', '', 'mmm', '', 'mm', '', '', '', 'm', '', '', '']\n",
      "using findall:  ['', '', '', '', '', '', '', '', '', '', '', '', '', 'mmmm', '', '', '', '', '', '', '', '', '', '']\n",
      "using findall:  ['', '', '', '', '', '', '', '', '', '', '', '', '', '']\n",
      "using findall:  ['', '', '', '', '', '', '', '', '', '', '', '', '', '', '', '', '', '', '', '']\n",
      "using findall:  ['ie', 'i', 'i', 'iee', 'i']\n"
     ]
    }
   ],
   "source": [
    "## --------------- Meta Character * ----------------- ##\n",
    "\n",
    "###========== using findall ============###\n",
    "\n",
    "s1 = [\"I am human\", \"Currently I amm Regexing\", \"I love coding\", \"I love data science\"]\n",
    "for i in s1:\n",
    "    s1_new=re.findall(\"m*\", i) # here as output we will get the list of lists corresponding to the string where \n",
    "    # zero number or more than zero number of 'm' has occurred\n",
    "    print(\"using findall: \",s1_new)\n",
    "\n",
    "s1 = [\"I ammm-mm human\", \"Currently I ammmm Regexing\", \"I love coding\", \"I love data science\"]\n",
    "for i in s1:\n",
    "    s1_new=re.findall(\"m*\", i) # here as output we will get the list of lists corresponding to the string where \n",
    "    # zero number or more than zero number of 'm' has occurred\n",
    "    print(\"using findall: \",s1_new) \n",
    "\n",
    "s2 = \"A friend in need is a frieend in deed\"\n",
    "e = re.findall(\"ie*\", s2) # here i is being considered constant and the * is being only applied on e\n",
    "print(\"using findall: \",e) # "
   ]
  },
  {
   "cell_type": "code",
   "execution_count": 18,
   "id": "c72cd7cb",
   "metadata": {},
   "outputs": [
    {
     "name": "stdout",
     "output_type": "stream",
     "text": [
      "using search:  <re.Match object; span=(0, 0), match=''>\n",
      "using search:  <re.Match object; span=(0, 0), match=''>\n",
      "using search:  <re.Match object; span=(0, 0), match=''>\n",
      "using search:  <re.Match object; span=(0, 0), match=''>\n",
      "using search:  <re.Match object; span=(0, 0), match=''>\n",
      "using search:  <re.Match object; span=(0, 0), match=''>\n",
      "using search:  <re.Match object; span=(0, 0), match=''>\n",
      "using search:  <re.Match object; span=(0, 0), match=''>\n",
      "using search:  <re.Match object; span=(4, 6), match='ie'>\n"
     ]
    }
   ],
   "source": [
    "## --------------- Meta Character * ----------------- ##\n",
    "\n",
    "### ========== using search ===========###  : search always returns match object\n",
    "\n",
    "s1 = [\"I am human\", \"Currently I amm Regexing\", \"I love coding\", \"I love data science\"]\n",
    "for i in s1:\n",
    "    s1_new=re.search(\"m*\", i) \n",
    "    print(\"using search: \",s1_new)\n",
    "\n",
    "s1 = [\"I ammm-mm human\", \"Currently I ammmm Regexing\", \"I love coding\", \"I love data science\"]\n",
    "for i in s1:\n",
    "    s1_new=re.search(\"m*\", i) \n",
    "    print(\"using search: \",s1_new) \n",
    "\n",
    "s2 = \"A friend in need is a frieend in deed\"\n",
    "e = re.search(\"ie*\", s2) # here i is being considered constant and the * is being only applied on e\n",
    "print(\"using search: \",e) # "
   ]
  },
  {
   "cell_type": "code",
   "execution_count": 19,
   "id": "c9685058",
   "metadata": {},
   "outputs": [
    {
     "name": "stdout",
     "output_type": "stream",
     "text": [
      "using split:  ['', 'I', ' ', 'a', '', ' ', 'h', 'u', '', 'a', 'n', '']\n",
      "using split:  ['', 'C', 'u', 'r', 'r', 'e', 'n', 't', 'l', 'y', ' ', 'I', ' ', 'a', '', ' ', 'R', 'e', 'g', 'e', 'x', 'i', 'n', 'g', '']\n",
      "using split:  ['', 'I', ' ', 'l', 'o', 'v', 'e', ' ', 'c', 'o', 'd', 'i', 'n', 'g', '']\n",
      "using split:  ['', 'I', ' ', 'l', 'o', 'v', 'e', ' ', 'd', 'a', 't', 'a', ' ', 's', 'c', 'i', 'e', 'n', 'c', 'e', '']\n",
      "using split:  ['', 'I', ' ', 'a', '', '-', '', ' ', 'h', 'u', '', 'a', 'n', '']\n",
      "using split:  ['', 'C', 'u', 'r', 'r', 'e', 'n', 't', 'l', 'y', ' ', 'I', ' ', 'a', '', ' ', 'R', 'e', 'g', 'e', 'x', 'i', 'n', 'g', '']\n",
      "using split:  ['', 'I', ' ', 'l', 'o', 'v', 'e', ' ', 'c', 'o', 'd', 'i', 'n', 'g', '']\n",
      "using split:  ['', 'I', ' ', 'l', 'o', 'v', 'e', ' ', 'd', 'a', 't', 'a', ' ', 's', 'c', 'i', 'e', 'n', 'c', 'e', '']\n",
      "using split:  ['A fr', 'nd ', 'n need ', 's a fr', 'nd ', 'n deed']\n"
     ]
    }
   ],
   "source": [
    "## --------------- Meta Character * ----------------- ##\n",
    "\n",
    "### =================== using split ========###\n",
    "\n",
    "s1 = [\"I am human\", \"Currently I amm Regexing\", \"I love coding\", \"I love data science\"]\n",
    "for i in s1:\n",
    "    s1_new=re.split(\"m*\", i)\n",
    "    print(\"using split: \",s1_new)\n",
    "\n",
    "s1 = [\"I ammm-mm human\", \"Currently I ammmm Regexing\", \"I love coding\", \"I love data science\"]\n",
    "for i in s1:\n",
    "    s1_new=re.split(\"m*\", i) \n",
    "    print(\"using split: \",s1_new) \n",
    "\n",
    "s2 = \"A friend in need is a frieend in deed\"\n",
    "e = re.split(\"ie*\", s2) # here i is being considered constant and the * is being only applied on e\n",
    "print(\"using split: \",e) # "
   ]
  },
  {
   "cell_type": "code",
   "execution_count": 20,
   "id": "b95f55ef",
   "metadata": {},
   "outputs": [
    {
     "name": "stdout",
     "output_type": "stream",
     "text": [
      "using sub:  MIM MaMM MhMuMMaMnM\n",
      "using sub:  MCMuMrMrMeMnMtMlMyM MIM MaMM MRMeMgMeMxMiMnMgM\n",
      "using sub:  MIM MlMoMvMeM McMoMdMiMnMgM\n",
      "using sub:  MIM MlMoMvMeM MdMaMtMaM MsMcMiMeMnMcMeM\n",
      "using sub:  MIM MaMM MhMuMMaMnM\n",
      "using sub:  MCMuMrMrMeMnMtMlMyM MIM MaMM MRMeMgMeMxMiMnMgM\n",
      "using sub:  MIM MlMoMvMeM McMoMdMiMnMgM\n",
      "using sub:  MIM MlMoMvMeM MdMaMtMaM MsMcMiMeMnMcMeM\n",
      "using sub:  A frIEnd IEn need IEs a frIEnd IEn deed\n"
     ]
    }
   ],
   "source": [
    "## --------------- Meta Character * ----------------- ##\n",
    "\n",
    "### ========== using sub ==========###\n",
    "\n",
    "s1 = [\"I am human\", \"Currently I amm Regexing\", \"I love coding\", \"I love data science\"]\n",
    "for i in s1:\n",
    "    s1_new=re.sub(\"m*\",\"M\", i) \n",
    "    print(\"using sub: \",s1_new)\n",
    "\n",
    "s1 = [\"I am human\", \"Currently I amm Regexing\", \"I love coding\", \"I love data science\"]\n",
    "for i in s1:\n",
    "    s1_new=re.sub(\"m*\", \"M\", i) \n",
    "    print(\"using sub: \",s1_new) \n",
    "\n",
    "s2 = \"A friend in need is a frieend in deed\"\n",
    "e = re.sub(\"ie*\", \"IE\", s2) # here i is being considered constant and the * is being only applied on e, look how sub function\n",
    "# is applyting in this case, ever string starting with i (irrespective of presence of e) is being replaced by 'IE'\n",
    "print(\"using sub: \",e) #"
   ]
  },
  {
   "cell_type": "code",
   "execution_count": 21,
   "id": "1f5f92af",
   "metadata": {},
   "outputs": [
    {
     "data": {
      "text/plain": [
       "'MIM MaMM MhMuMMaMnM'"
      ]
     },
     "execution_count": 21,
     "metadata": {},
     "output_type": "execute_result"
    }
   ],
   "source": [
    "s3 = \"I am human\"\n",
    "re.sub(\"m*\", \"M\", s3)"
   ]
  },
  {
   "cell_type": "code",
   "execution_count": 22,
   "id": "795165ef",
   "metadata": {},
   "outputs": [
    {
     "data": {
      "text/plain": [
       "'A frEnd En need Es a frEnd En deed'"
      ]
     },
     "execution_count": 22,
     "metadata": {},
     "output_type": "execute_result"
    }
   ],
   "source": [
    "s4 = \"A friend in need is a friend in deed\"\n",
    "re.sub('ie*', 'E', s4)"
   ]
  },
  {
   "cell_type": "code",
   "execution_count": null,
   "id": "ec01e094",
   "metadata": {},
   "outputs": [],
   "source": []
  }
 ],
 "metadata": {
  "kernelspec": {
   "display_name": "Python 3 (ipykernel)",
   "language": "python",
   "name": "python3"
  },
  "language_info": {
   "codemirror_mode": {
    "name": "ipython",
    "version": 3
   },
   "file_extension": ".py",
   "mimetype": "text/x-python",
   "name": "python",
   "nbconvert_exporter": "python",
   "pygments_lexer": "ipython3",
   "version": "3.9.7"
  }
 },
 "nbformat": 4,
 "nbformat_minor": 5
}
