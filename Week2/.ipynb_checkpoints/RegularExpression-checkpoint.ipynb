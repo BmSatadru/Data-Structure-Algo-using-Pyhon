{
 "cells": [
  {
   "cell_type": "code",
   "execution_count": 1,
   "id": "2f3a0a0e",
   "metadata": {},
   "outputs": [
    {
     "name": "stdout",
     "output_type": "stream",
     "text": [
      "['t', 't', 't']\n",
      "['Sa', 'adru Bha', '', 'acharya']\n",
      "['Satadru Bha', 'acharya']\n",
      "['', 'S', 'a', 't', 'a', 'd', 'r', 'u', ' ', 'B', 'h', 'a', 't', 't', 'a', 'c', 'h', 'a', 'r', 'y', 'a', '']\n",
      "['Satadru', 'Bhattacharya']\n",
      "['Sa', 'adru Bhattacharya']\n"
     ]
    }
   ],
   "source": [
    "import re\n",
    "# findall --->Returns a list containing all matches\n",
    "# search --->Returns a Match object if there is a match anywhere in the string\n",
    "# split --->Returns a list where the string has been split at each match\n",
    "# sub --->Replaces one or many matches with a string\n",
    "\n",
    "## ---------------------- findall-----------------------##\n",
    "s = \"Satadru Bhattacharya\"\n",
    "print(re.findall('t', s)) \n",
    "## ------------------------------ split-----------------##\n",
    "print(re.split('t', s))\n",
    "print(re.split('tt', s))\n",
    "print(re.split('', s))\n",
    "print(re.split(' ', s))\n",
    "print(re.split('t', s, 1 )) # instead of returning 3 elements in the list it will return 2 element in the list\n"
   ]
  },
  {
   "cell_type": "code",
   "execution_count": 3,
   "id": "0bb1a2e0",
   "metadata": {},
   "outputs": [
    {
     "name": "stdout",
     "output_type": "stream",
     "text": [
      "<re.Match object; span=(2, 4), match='ta'>\n",
      "<class 're.Match'>\n",
      "2\n",
      "4\n",
      "(2, 4)\n",
      "<class 'tuple'>\n"
     ]
    },
    {
     "data": {
      "text/plain": [
       "'Satadru Bhattacharya'"
      ]
     },
     "execution_count": 3,
     "metadata": {},
     "output_type": "execute_result"
    }
   ],
   "source": [
    "x = re.search('ta', s) # return first occurrence, \n",
    "print(x) # this is printing an object\n",
    "print(type(x)) # clearly this is not any string, tuple etc, it is returnung match object.\n",
    "print(x.start())\n",
    "print(x.end())\n",
    "print(x.span()) \n",
    "print(type(x.span()))\n",
    "x.string"
   ]
  },
  {
   "cell_type": "code",
   "execution_count": 4,
   "id": "354abd27",
   "metadata": {},
   "outputs": [
    {
     "name": "stdout",
     "output_type": "stream",
     "text": [
      "SAtAdru BhAttAchAryA\n",
      "SAtAdru BhAttacharya\n"
     ]
    }
   ],
   "source": [
    "print(re.sub('a', 'A', s)) # the previous string is being changed , that means 'a' in s is remaining small .\n",
    "# so what I am trying to convey that re.string is not changing the old string\n",
    "print(re.sub('a', 'A', s, 3)) # cnvert only first 3 'a' in s"
   ]
  },
  {
   "cell_type": "markdown",
   "id": "7c871f98",
   "metadata": {},
   "source": [
    "## Meta Character - Special Sequence - Sets"
   ]
  },
  {
   "cell_type": "code",
   "execution_count": 5,
   "id": "51616ccc",
   "metadata": {},
   "outputs": [],
   "source": [
    "## --------------------- What are these meta characters ??  -----------##\n",
    "# []   A set of characters\n",
    "# \\    Signals a special sequence (can also be used to escape special characters)\n",
    "# .    Any character (except newline character)\n",
    "# ^    Starts with\n",
    "# $    Ends with\n",
    "# *    Zero or more occurrences\n",
    "# +    One or more occurrences\n",
    "# ?    Zero or one occurrences\n",
    "# {}   Exactly the specified number of occurrences\n",
    "# |    Either or\n",
    "\n",
    "## --------------- Special sequences --------------##\n",
    "# \\A    Returns a match if the specified characters are at the beginning of the string\t\"\\AThe\"\t\n",
    "# \\b    Returns a match where the specified characters are at the beginning or at the end of a word\n",
    "# (the \"r\" in the beginning is making sure that the string is being treated as a \"raw string\")\tr\"\\bain\"\n",
    "# r\"ain\\b\"\t\n",
    "# \\B   Returns a match where the specified characters are present, but NOT at the beginning (or at the end) of a word\n",
    "# (the \"r\" in the beginning is making sure that the string is being treated as a \"raw string\")\tr\"\\Bain\"\n",
    "# r\"ain\\B\"\n",
    "# \\d    Returns a match where the string contains digits (numbers from 0-9)\n",
    "# \\D    Returns a match where the string DOES NOT contain digits\n",
    "# \\s    Returns a match where the string contains a white space character\n",
    "# \\S    Returns a match where the string DOES NOT contain a white space character\n",
    "# \\w    Returns a match where the string contains any word characters \n",
    "# (characters from a to Z, digits from 0-9, and the underscore _ character)\n",
    "# \\W    Returns a match where the string DOES NOT contain any word characters\n",
    "# \\Z    Returns a match if the specified characters are at the end of the string\n",
    "\n",
    "## --------------------- sets --------------##\n",
    "# [arn]    Returns a match where one of the specified characters (a, r, or n) is present\n",
    "# [a-n]    Returns a match for any lower case character, alphabetically between a and n\n",
    "# [^arn]   Returns a match for any character EXCEPT a, r, and n\n",
    "# [0123]   Returns a match where any of the specified digits (0, 1, 2, or 3) are present\n",
    "# [0-9]    Returns a match for any digit between 0 and 9\n",
    "# [0-5][0-9]   Returns a match for any two-digit numbers from 00 and 59\n",
    "# [a-zA-Z] Returns a match for any character alphabetically between a and z, lower case OR upper case\n",
    "# [+]    In sets, +, *, ., |, (), $,{} has no special meaning, so [+] \n",
    "## means: return a match for any + character in the string\n"
   ]
  },
  {
   "cell_type": "code",
   "execution_count": 6,
   "id": "48221236",
   "metadata": {},
   "outputs": [
    {
     "name": "stdout",
     "output_type": "stream",
     "text": [
      "Using findall:  ['I']\n",
      "Using findall:  []\n",
      "Using findall:  ['I']\n",
      "Using findall:  ['I']\n"
     ]
    }
   ],
   "source": [
    "## --------------- Using Meta character ^-----------##\n",
    "###=============== Using findall =========###\n",
    "s1 = [\"I am human\", \"Currently I am Regexing\", \"I love coding\", \"I love data science\"]\n",
    "for i in s1:\n",
    "    s1_new=re.findall(\"^I\", i)\n",
    "    print(\"Using findall: \", s1_new)\n"
   ]
  },
  {
   "cell_type": "code",
   "execution_count": 7,
   "id": "a0fe56c7",
   "metadata": {},
   "outputs": [
    {
     "name": "stdout",
     "output_type": "stream",
     "text": [
      "using search:  <re.Match object; span=(0, 1), match='I'>\n",
      "using search:  None\n",
      "using search:  <re.Match object; span=(0, 1), match='I'>\n",
      "using search:  <re.Match object; span=(0, 1), match='I'>\n"
     ]
    }
   ],
   "source": [
    "## --------------- Using Meta character ^-----------##\n",
    "###=============== Using search =========###\n",
    "s1 = [\"I am human\", \"Currently I am Regexing\", \"I love coding\", \"I love data science\"]\n",
    "for i in s1:\n",
    "    s1_new=re.search(\"^I\", i)\n",
    "    print(\"using search: \", s1_new)\n",
    "#   print(s.start())\n",
    "#   print(s.end())\n",
    "#   print(s.span())"
   ]
  },
  {
   "cell_type": "code",
   "execution_count": 8,
   "id": "e905c3ea",
   "metadata": {},
   "outputs": [
    {
     "name": "stdout",
     "output_type": "stream",
     "text": [
      "['', ' am human']\n",
      "['Currently I am Regexing']\n",
      "['', ' love coding']\n",
      "['', ' love data science']\n"
     ]
    }
   ],
   "source": [
    "## --------------- Using Meta character ^-----------##\n",
    "### ============== Using split===========###\n",
    "s1 = [\"I am human\", \"Currently I am Regexing\", \"I love coding\", \"I love data science\"]\n",
    "for i in s1:\n",
    "    s1_new=re.split(\"^I\",i)\n",
    "    print(s1_new)"
   ]
  },
  {
   "cell_type": "code",
   "execution_count": 9,
   "id": "efc79939",
   "metadata": {},
   "outputs": [
    {
     "name": "stdout",
     "output_type": "stream",
     "text": [
      "Using sub:  You am human\n",
      "Using sub:  Currently I am Regexing\n",
      "Using sub:  You love coding\n",
      "Using sub:  You love data science\n"
     ]
    }
   ],
   "source": [
    "### ============= Using sub =============###\n",
    "s1 = [\"I am human\", \"Currently I am Regexing\", \"I love coding\", \"I love data science\"]\n",
    "for i in s1:\n",
    "    s1_new=re.sub(\"^I\",\"You\", i)\n",
    "    print(\"Using sub: \",s1_new)"
   ]
  },
  {
   "cell_type": "code",
   "execution_count": 10,
   "id": "87f52863",
   "metadata": {},
   "outputs": [
    {
     "name": "stdout",
     "output_type": "stream",
     "text": [
      "Using findall:  []\n",
      "Using findall:  ['g']\n",
      "Using findall:  ['g']\n",
      "Using findall:  []\n"
     ]
    }
   ],
   "source": [
    "## ----------------- Meta Character $ ---------------##\n",
    "\n",
    "###=============== Using findall =========###\n",
    "\n",
    "s1 = [\"I am human\", \"Currently I am Regexing\", \"I love coding\", \"I love data science\"]\n",
    "for i in s1:\n",
    "    s1_new=re.findall(\"g$\", i)\n",
    "    print(\"Using findall: \", s1_new)"
   ]
  },
  {
   "cell_type": "code",
   "execution_count": 11,
   "id": "83ccb656",
   "metadata": {},
   "outputs": [
    {
     "name": "stdout",
     "output_type": "stream",
     "text": [
      "using search:  None\n",
      "using search:  <re.Match object; span=(22, 23), match='g'>\n",
      "using search:  <re.Match object; span=(12, 13), match='g'>\n",
      "using search:  None\n"
     ]
    }
   ],
   "source": [
    "## ----------------- Meta Character $ ---------------##    \n",
    "###=============== Using search =========###\n",
    "\n",
    "s1 = [\"I am human\", \"Currently I am Regexing\", \"I love coding\", \"I love data science\"]\n",
    "for i in s1:\n",
    "    s1_new=re.search(\"g$\", i)\n",
    "    print(\"using search: \", s1_new)"
   ]
  },
  {
   "cell_type": "code",
   "execution_count": 12,
   "id": "b7ff7a78",
   "metadata": {},
   "outputs": [
    {
     "name": "stdout",
     "output_type": "stream",
     "text": [
      "using split:  ['I am human']\n",
      "using split:  ['Currently I am Regexin', '']\n",
      "using split:  ['I love codin', '']\n",
      "using split:  ['I love data science']\n"
     ]
    }
   ],
   "source": [
    "## ----------------- Meta Character $ ---------------##    \n",
    "###=============== Using split =========###\n",
    "\n",
    "s1 = [\"I am human\", \"Currently I am Regexing\", \"I love coding\", \"I love data science\"]\n",
    "for i in s1:\n",
    "    s1_new=re.split(\"g$\", i)\n",
    "    print(\"using split: \", s1_new)"
   ]
  },
  {
   "cell_type": "code",
   "execution_count": 13,
   "id": "70fd92c3",
   "metadata": {},
   "outputs": [
    {
     "name": "stdout",
     "output_type": "stream",
     "text": [
      "using sub:  I am human\n",
      "using sub:  Currently I am RegexinHI\n",
      "using sub:  I love codinHI\n",
      "using sub:  I love data science\n"
     ]
    }
   ],
   "source": [
    "## ----------------- Meta Character $ ---------------##    \n",
    "###=============== Using sub =========###\n",
    "\n",
    "s1 = [\"I am human\", \"Currently I am Regexing\", \"I love coding\", \"I love data science\"]\n",
    "for i in s1:\n",
    "    s1_new=re.sub(\"g$\", 'HI', i)\n",
    "    print(\"using sub: \",s1_new)"
   ]
  },
  {
   "cell_type": "code",
   "execution_count": 14,
   "id": "9418ee18",
   "metadata": {},
   "outputs": [
    {
     "name": "stdout",
     "output_type": "stream",
     "text": [
      "Three characters before ing: -- using findall--  []\n",
      "Three characters before ing: -- using findall--  ['gexing']\n",
      "Three characters before ing: -- using findall--  ['coding']\n",
      "Three characters before ing: -- using findall--  []\n",
      "Two characters before ing: -- using findall--  []\n",
      "Two characters before ing: -- using findall--  ['exing']\n",
      "Two characters before ing: -- using findall--  ['oding']\n",
      "Two characters before ing: -- using findall--  []\n",
      "Three characters after I: -- using findall--  ['I am']\n",
      "Three characters after I: -- using findall--  ['I am']\n",
      "Three characters after I: -- using findall--  ['I lo']\n",
      "Three characters after I: -- using findall--  ['I lo']\n"
     ]
    }
   ],
   "source": [
    "## ------------------------ Using Meta character  .   ------------------##\n",
    "### =================== using findall ================###\n",
    "s1 = [\"I am human\", \"Currently I am Regexing\", \"I love coding\", \"I love data science\"]\n",
    "for i in s1:\n",
    "    s1_new=re.findall(\"...ing\", i) # these dots can also be placed after, here we are getting three characters before ing\n",
    "    print(\"Three characters before ing: -- using findall-- \", s1_new)\n",
    "\n",
    "s1 = [\"I am human\", \"Currently I am Regexing\", \"I love coding\", \"I love data science\"]\n",
    "for i in s1:\n",
    "    s1_new=re.findall(\"..ing\", i) # we are getting two characters before ing\n",
    "    print(\"Two characters before ing: -- using findall-- \", s1_new)\n",
    "\n",
    "s1 = [\"I am human\", \"Currently I am Regexing\", \"I love coding\", \"I love data science\"]\n",
    "for i in s1:\n",
    "    s1_new=re.findall(\"I...\", i) # notice here dots are being placed after & after I we are getting 3 characters\n",
    "    print(\"Three characters after I: -- using findall-- \", s1_new)"
   ]
  },
  {
   "cell_type": "code",
   "execution_count": 15,
   "id": "9fe98bad",
   "metadata": {},
   "outputs": [
    {
     "name": "stdout",
     "output_type": "stream",
     "text": [
      "Three characters before ing: -- using search--  None\n",
      "Three characters before ing: -- using search--  <re.Match object; span=(17, 23), match='gexing'>\n",
      "Three characters before ing: -- using search--  <re.Match object; span=(7, 13), match='coding'>\n",
      "Three characters before ing: -- using search--  None\n",
      "Two characters before ing: -- using search--   None\n",
      "Two characters before ing: -- using search--   <re.Match object; span=(18, 23), match='exing'>\n",
      "Two characters before ing: -- using search--   <re.Match object; span=(8, 13), match='oding'>\n",
      "Two characters before ing: -- using search--   None\n",
      "Three characters after I: -- using search--   <re.Match object; span=(0, 4), match='I am'>\n",
      "Three characters after I: -- using search--   <re.Match object; span=(10, 14), match='I am'>\n",
      "Three characters after I: -- using search--   <re.Match object; span=(0, 4), match='I lo'>\n",
      "Three characters after I: -- using search--   <re.Match object; span=(0, 4), match='I lo'>\n"
     ]
    }
   ],
   "source": [
    "## ------------------------ Using Meta character  .   ------------------##\n",
    "  \n",
    "### =================== using search ==================###\n",
    "\n",
    "s1 = [\"I am human\", \"Currently I am Regexing\", \"I love coding\", \"I love data science\"]\n",
    "for i in s1:\n",
    "    s1_new=re.search(\"...ing\", i) # these dots can also be placed after, here we are getting three characters before ing\n",
    "    print(\"Three characters before ing: -- using search-- \", s1_new)\n",
    "\n",
    "s1 = [\"I am human\", \"Currently I am Regexing\", \"I love coding\", \"I love data science\"]\n",
    "for i in s1:\n",
    "    s1_new=re.search(\"..ing\", i) # we are getting two characters before ing\n",
    "    print(\"Two characters before ing: -- using search--  \", s1_new)\n",
    "\n",
    "s1 = [\"I am human\", \"Currently I am Regexing\", \"I love coding\", \"I love data science\"]\n",
    "for i in s1:\n",
    "    s1_new=re.search(\"I...\", i) # notice here dots are being placed after & after I we are getting 3 characters\n",
    "    print(\"Three characters after I: -- using search--  \", s1_new)"
   ]
  },
  {
   "cell_type": "code",
   "execution_count": 16,
   "id": "3547a693",
   "metadata": {},
   "outputs": [
    {
     "name": "stdout",
     "output_type": "stream",
     "text": [
      "Three characters before ing: -- using split--   ['I am human']\n",
      "Three characters before ing: -- using split--   ['Currently I am Re', '']\n",
      "Three characters before ing: -- using split--   ['I love ', '']\n",
      "Three characters before ing: -- using split--   ['I love data science']\n",
      "Two characters before ing: -- using split--   ['I am human']\n",
      "Two characters before ing: -- using split--   ['Currently I am Reg', '']\n",
      "Two characters before ing: -- using split--   ['I love c', '']\n",
      "Two characters before ing: -- using split--   ['I love data science']\n",
      "Three characters after I: -- using split--   ['', ' human']\n",
      "Three characters after I: -- using split--   ['Currently ', ' Regexing']\n",
      "Three characters after I: -- using split--   ['', 've coding']\n",
      "Three characters after I: -- using split--   ['', 've data science']\n"
     ]
    }
   ],
   "source": [
    "## ------------------------ Using Meta character  .   ------------------##\n",
    "    \n",
    "### =================== using split ===================###\n",
    "\n",
    "s1 = [\"I am human\", \"Currently I am Regexing\", \"I love coding\", \"I love data science\"]\n",
    "for i in s1:\n",
    "    s1_new=re.split(\"...ing\", i) # these dots can also be placed after, here we are getting three characters before ing\n",
    "    print(\"Three characters before ing: -- using split--  \", s1_new)\n",
    "\n",
    "s1 = [\"I am human\", \"Currently I am Regexing\", \"I love coding\", \"I love data science\"]\n",
    "for i in s1:\n",
    "    s1_new=re.split(\"..ing\", i) # we are getting two characters before ing\n",
    "    print(\"Two characters before ing: -- using split--  \", s1_new)\n",
    "\n",
    "s1 = [\"I am human\", \"Currently I am Regexing\", \"I love coding\", \"I love data science\"]\n",
    "for i in s1:\n",
    "    s1_new=re.split(\"I...\", i) # notice here dots are being place after & after I we are getting 3 characters\n",
    "    print(\"Three characters after I: -- using split--  \", s1_new)"
   ]
  },
  {
   "cell_type": "code",
   "execution_count": 17,
   "id": "988640ee",
   "metadata": {},
   "outputs": [
    {
     "name": "stdout",
     "output_type": "stream",
     "text": [
      "Three characters before: -- using sub--   I am human\n",
      "Three characters before: -- using sub--   Currently I am ReHIKING\n",
      "Three characters before: -- using sub--   I love HIKING\n",
      "Three characters before: -- using sub--   I love data science\n",
      "Two characters before: -- using sub--    I am human\n",
      "Two characters before: -- using sub--    Currently I am RegHIKING\n",
      "Two characters before: -- using sub--    I love cHIKING\n",
      "Two characters before: -- using sub--    I love data science\n",
      "Three characters after I: -- using sub--   HIKING human\n",
      "Three characters after I: -- using sub--   Currently HIKING Regexing\n",
      "Three characters after I: -- using sub--   HIKINGve coding\n",
      "Three characters after I: -- using sub--   HIKINGve data science\n"
     ]
    }
   ],
   "source": [
    "## ------------------------ Using Meta character  .   ------------------##\n",
    "    \n",
    "### =================== using sub =====================###\n",
    "\n",
    "s1 = [\"I am human\", \"Currently I am Regexing\", \"I love coding\", \"I love data science\"]\n",
    "for i in s1:\n",
    "    s1_new=re.sub(\"...ing\", \"HIKING\", i) # these dots can also be placed after, here we are getting three characters before ing\n",
    "    print(\"Three characters before: -- using sub--  \", s1_new)\n",
    "\n",
    "s1 = [\"I am human\", \"Currently I am Regexing\", \"I love coding\", \"I love data science\"]\n",
    "for i in s1:\n",
    "    s1_new=re.sub(\"..ing\", \"HIKING\", i) # we are getting two characters before ing\n",
    "    print(\"Two characters before: -- using sub--   \", s1_new)\n",
    "\n",
    "s1 = [\"I am human\", \"Currently I am Regexing\", \"I love coding\", \"I love data science\"]\n",
    "for i in s1:\n",
    "    s1_new=re.sub(\"I...\", \"HIKING\", i) # notice here dots are being place after & after I we are getting 3 characters\n",
    "    print(\"Three characters after I: -- using sub--  \", s1_new)"
   ]
  },
  {
   "cell_type": "markdown",
   "id": "0b4ac789",
   "metadata": {},
   "source": [
    "##### meta character  *   is the trickiest till now while applying findall, sub, search, split etc"
   ]
  },
  {
   "cell_type": "code",
   "execution_count": 18,
   "id": "2a6169fd",
   "metadata": {},
   "outputs": [
    {
     "name": "stdout",
     "output_type": "stream",
     "text": [
      "using findall:  ['', '', '', 'm', '', '', '', 'm', '', '', '']\n",
      "using findall:  ['', '', '', '', '', '', '', '', '', '', '', '', '', 'mm', '', '', '', '', '', '', '', '', '', '']\n",
      "using findall:  ['', '', '', '', '', '', '', '', '', '', '', '', '', '']\n",
      "using findall:  ['', '', '', '', '', '', '', '', '', '', '', '', '', '', '', '', '', '', '', '']\n",
      "using findall:  ['', '', '', 'mmm', '', 'mm', '', '', '', 'm', '', '', '']\n",
      "using findall:  ['', '', '', '', '', '', '', '', '', '', '', '', '', 'mmmm', '', '', '', '', '', '', '', '', '', '']\n",
      "using findall:  ['', '', '', '', '', '', '', '', '', '', '', '', '', '']\n",
      "using findall:  ['', '', '', '', '', '', '', '', '', '', '', '', '', '', '', '', '', '', '', '']\n",
      "using findall:  ['ie', 'i', 'i', 'iee', 'i']\n"
     ]
    }
   ],
   "source": [
    "## --------------- Meta Character * ----------------- ##\n",
    "\n",
    "###========== using findall ============###\n",
    "\n",
    "s1 = [\"I am human\", \"Currently I amm Regexing\", \"I love coding\", \"I love data science\"]\n",
    "for i in s1:\n",
    "    s1_new=re.findall(\"m*\", i) # here as output we will get the list of lists corresponding to the string where \n",
    "    # zero number or more than zero number of 'm' has occurred\n",
    "    print(\"using findall: \",s1_new)\n",
    "\n",
    "s1 = [\"I ammm-mm human\", \"Currently I ammmm Regexing\", \"I love coding\", \"I love data science\"]\n",
    "for i in s1:\n",
    "    s1_new=re.findall(\"m*\", i) # here as output we will get the list of lists corresponding to the string where \n",
    "    # zero number or more than zero number of 'm' has occurred\n",
    "    print(\"using findall: \",s1_new) \n",
    "\n",
    "s2 = \"A friend in need is a frieend in deed\"\n",
    "e = re.findall(\"ie*\", s2) # here i is being considered constant and the * is being only applied on e\n",
    "print(\"using findall: \",e) # "
   ]
  },
  {
   "cell_type": "code",
   "execution_count": 19,
   "id": "c72cd7cb",
   "metadata": {},
   "outputs": [
    {
     "name": "stdout",
     "output_type": "stream",
     "text": [
      "using search:  <re.Match object; span=(0, 0), match=''>\n",
      "using search:  <re.Match object; span=(0, 0), match=''>\n",
      "using search:  <re.Match object; span=(0, 0), match=''>\n",
      "using search:  <re.Match object; span=(0, 0), match=''>\n",
      "using search:  <re.Match object; span=(0, 0), match=''>\n",
      "using search:  <re.Match object; span=(0, 0), match=''>\n",
      "using search:  <re.Match object; span=(0, 0), match=''>\n",
      "using search:  <re.Match object; span=(0, 0), match=''>\n",
      "using search:  <re.Match object; span=(4, 6), match='ie'>\n"
     ]
    }
   ],
   "source": [
    "## --------------- Meta Character * ----------------- ##\n",
    "\n",
    "### ========== using search ===========###  : search always returns match object\n",
    "\n",
    "s1 = [\"I am human\", \"Currently I amm Regexing\", \"I love coding\", \"I love data science\"]\n",
    "for i in s1:\n",
    "    s1_new=re.search(\"m*\", i) \n",
    "    print(\"using search: \",s1_new)\n",
    "\n",
    "s1 = [\"I ammm-mm human\", \"Currently I ammmm Regexing\", \"I love coding\", \"I love data science\"]\n",
    "for i in s1:\n",
    "    s1_new=re.search(\"m*\", i) \n",
    "    print(\"using search: \",s1_new) \n",
    "\n",
    "s2 = \"A friend in need is a frieend in deed\"\n",
    "e = re.search(\"ie*\", s2) # here i is being considered constant and the * is being only applied on e\n",
    "print(\"using search: \",e) # "
   ]
  },
  {
   "cell_type": "code",
   "execution_count": 20,
   "id": "c9685058",
   "metadata": {},
   "outputs": [
    {
     "name": "stdout",
     "output_type": "stream",
     "text": [
      "using split:  ['', 'I', ' ', 'a', '', ' ', 'h', 'u', '', 'a', 'n', '']\n",
      "using split:  ['', 'C', 'u', 'r', 'r', 'e', 'n', 't', 'l', 'y', ' ', 'I', ' ', 'a', '', ' ', 'R', 'e', 'g', 'e', 'x', 'i', 'n', 'g', '']\n",
      "using split:  ['', 'I', ' ', 'l', 'o', 'v', 'e', ' ', 'c', 'o', 'd', 'i', 'n', 'g', '']\n",
      "using split:  ['', 'I', ' ', 'l', 'o', 'v', 'e', ' ', 'd', 'a', 't', 'a', ' ', 's', 'c', 'i', 'e', 'n', 'c', 'e', '']\n",
      "using split:  ['', 'I', ' ', 'a', '', '-', '', ' ', 'h', 'u', '', 'a', 'n', '']\n",
      "using split:  ['', 'C', 'u', 'r', 'r', 'e', 'n', 't', 'l', 'y', ' ', 'I', ' ', 'a', '', ' ', 'R', 'e', 'g', 'e', 'x', 'i', 'n', 'g', '']\n",
      "using split:  ['', 'I', ' ', 'l', 'o', 'v', 'e', ' ', 'c', 'o', 'd', 'i', 'n', 'g', '']\n",
      "using split:  ['', 'I', ' ', 'l', 'o', 'v', 'e', ' ', 'd', 'a', 't', 'a', ' ', 's', 'c', 'i', 'e', 'n', 'c', 'e', '']\n",
      "using split:  ['A fr', 'nd ', 'n need ', 's a fr', 'nd ', 'n deed']\n"
     ]
    }
   ],
   "source": [
    "## --------------- Meta Character * ----------------- ##\n",
    "\n",
    "### =================== using split ========###\n",
    "\n",
    "s1 = [\"I am human\", \"Currently I amm Regexing\", \"I love coding\", \"I love data science\"]\n",
    "for i in s1:\n",
    "    s1_new=re.split(\"m*\", i)\n",
    "    print(\"using split: \",s1_new)\n",
    "\n",
    "s1 = [\"I ammm-mm human\", \"Currently I ammmm Regexing\", \"I love coding\", \"I love data science\"]\n",
    "for i in s1:\n",
    "    s1_new=re.split(\"m*\", i) \n",
    "    print(\"using split: \",s1_new) \n",
    "\n",
    "s2 = \"A friend in need is a frieend in deed\"\n",
    "e = re.split(\"ie*\", s2) # here i is being considered constant and the * is being only applied on e\n",
    "print(\"using split: \",e) # "
   ]
  },
  {
   "cell_type": "code",
   "execution_count": 21,
   "id": "b95f55ef",
   "metadata": {},
   "outputs": [
    {
     "name": "stdout",
     "output_type": "stream",
     "text": [
      "using sub:  MIM MaMM MhMuMMaMnM\n",
      "using sub:  MCMuMrMrMeMnMtMlMyM MIM MaMM MRMeMgMeMxMiMnMgM\n",
      "using sub:  MIM MlMoMvMeM McMoMdMiMnMgM\n",
      "using sub:  MIM MlMoMvMeM MdMaMtMaM MsMcMiMeMnMcMeM\n",
      "using sub:  MIM MaMM MhMuMMaMnM\n",
      "using sub:  MCMuMrMrMeMnMtMlMyM MIM MaMM MRMeMgMeMxMiMnMgM\n",
      "using sub:  MIM MlMoMvMeM McMoMdMiMnMgM\n",
      "using sub:  MIM MlMoMvMeM MdMaMtMaM MsMcMiMeMnMcMeM\n",
      "using sub:  A frIEnd IEn need IEs a frIEnd IEn deed\n"
     ]
    }
   ],
   "source": [
    "## --------------- Meta Character * ----------------- ##\n",
    "\n",
    "### ========== using sub ==========###\n",
    "\n",
    "s1 = [\"I am human\", \"Currently I amm Regexing\", \"I love coding\", \"I love data science\"]\n",
    "for i in s1:\n",
    "    s1_new=re.sub(\"m*\",\"M\", i) \n",
    "    print(\"using sub: \",s1_new)\n",
    "\n",
    "s1 = [\"I am human\", \"Currently I amm Regexing\", \"I love coding\", \"I love data science\"]\n",
    "for i in s1:\n",
    "    s1_new=re.sub(\"m*\", \"M\", i) \n",
    "    print(\"using sub: \",s1_new) \n",
    "\n",
    "s2 = \"A friend in need is a frieend in deed\"\n",
    "e = re.sub(\"ie*\", \"IE\", s2) # here i is being considered constant and the * is being only applied on e, look how sub function\n",
    "# is applyting in this case, ever string starting with i (irrespective of presence of e) is being replaced by 'IE'\n",
    "print(\"using sub: \",e) #"
   ]
  },
  {
   "cell_type": "markdown",
   "id": "3e097887",
   "metadata": {},
   "source": [
    "## Practising regular expression"
   ]
  },
  {
   "cell_type": "code",
   "execution_count": 58,
   "id": "2398ed5b",
   "metadata": {},
   "outputs": [
    {
     "name": "stdout",
     "output_type": "stream",
     "text": [
      "415-555-4242\n"
     ]
    }
   ],
   "source": [
    "s1 =  \"My number is 415-555-4242\"\n",
    "phoneRegex = re.compile(r\"\\d\\d\\d-\\d\\d\\d-\\d\\d\\d\\d\")\n",
    "mo = phoneRegex.search(s1)\n",
    "print(mo.group())              "
   ]
  },
  {
   "cell_type": "code",
   "execution_count": 66,
   "id": "b8181a73",
   "metadata": {},
   "outputs": [
    {
     "name": "stdout",
     "output_type": "stream",
     "text": [
      "415-555-424\n",
      "415\n",
      "555\n",
      "424\n",
      "415 555 424\n"
     ]
    }
   ],
   "source": [
    "s1 = \"My number is 415-555-4242\"\n",
    "phoneRegex = re.compile(r\"(\\d\\d\\d)-(\\d\\d\\d)-(\\d\\d\\d)\")\n",
    "mo = phoneRegex.search(s1)\n",
    "print(mo.group())\n",
    "print(mo.group(1))\n",
    "print(mo.group(2))\n",
    "print(mo.group(3))\n",
    "a,b,c = mo.groups() # for unpacking several characters we are using a 's' after the word 'group'\n",
    "print(a, b, c)"
   ]
  },
  {
   "cell_type": "code",
   "execution_count": 68,
   "id": "9aad077e",
   "metadata": {},
   "outputs": [],
   "source": [
    "# Review of Regular Expression Matching\n",
    "# While there are several steps to using regular expressions in Python, each\n",
    "# step is fairly simple.\n",
    "# 1. Import the regex module with import re.\n",
    "# 2. Create a Regex object with the re.compile() function. (Remember to use\n",
    "# a raw string.)\n",
    "# 3. Pass the string you want to search into the Regex object’s search()\n",
    "# method. This returns a Match object.\n",
    "# 4. Call the Match object’s group() method to return a string of the actual\n",
    "# matched text."
   ]
  },
  {
   "cell_type": "code",
   "execution_count": 89,
   "id": "71430f05",
   "metadata": {},
   "outputs": [
    {
     "name": "stdout",
     "output_type": "stream",
     "text": [
      "(415)\n",
      "555-4242\n",
      "(415)\n",
      "555-4242\n"
     ]
    }
   ],
   "source": [
    "s1 = \"My phone number is (415) 555-4242.\"\n",
    "# Will extract the phone number using regex\n",
    "phoneNumRegex = re.compile(r'(\\(\\d\\d\\d\\)) (\\d\\d\\d-\\d\\d\\d\\d)') # creating regex object\n",
    "mo = phoneNumRegex.search(s1) # paasing the string s1 into the RegEx object\n",
    "print(mo.group(1))\n",
    "print(mo.group(2))\n",
    "a,b = mo.groups()\n",
    "print(a)\n",
    "print(b)"
   ]
  },
  {
   "cell_type": "markdown",
   "id": "70a07757",
   "metadata": {},
   "source": [
    "# Matching Multiple Groups with the Pipe"
   ]
  },
  {
   "cell_type": "code",
   "execution_count": 97,
   "id": "adac5298",
   "metadata": {},
   "outputs": [
    {
     "name": "stdout",
     "output_type": "stream",
     "text": [
      "Superman\n"
     ]
    }
   ],
   "source": [
    "# The | character is called a pipe. You can use it anywhere you want to match \n",
    "# one of many expressions. For example, the regular expression r'Batman|Superman' will match either \n",
    "#'Batman' or 'Superman'\n",
    "s1 = \"I like Superman over Batman\"\n",
    "pipeRegex = re.compile(r'Batman|Superman')\n",
    "mo = pipeRegex.search(s1) # it will always return search object\n",
    "print(mo.group())"
   ]
  },
  {
   "cell_type": "code",
   "execution_count": null,
   "id": "b233b1a3",
   "metadata": {},
   "outputs": [],
   "source": []
  }
 ],
 "metadata": {
  "kernelspec": {
   "display_name": "Python 3 (ipykernel)",
   "language": "python",
   "name": "python3"
  },
  "language_info": {
   "codemirror_mode": {
    "name": "ipython",
    "version": 3
   },
   "file_extension": ".py",
   "mimetype": "text/x-python",
   "name": "python",
   "nbconvert_exporter": "python",
   "pygments_lexer": "ipython3",
   "version": "3.9.12"
  }
 },
 "nbformat": 4,
 "nbformat_minor": 5
}
