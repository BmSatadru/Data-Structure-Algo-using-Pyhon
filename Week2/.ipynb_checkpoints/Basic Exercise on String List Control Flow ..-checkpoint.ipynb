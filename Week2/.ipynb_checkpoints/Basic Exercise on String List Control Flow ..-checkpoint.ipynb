{
 "cells": [
  {
   "cell_type": "code",
   "execution_count": 17,
   "id": "0b626f5c",
   "metadata": {},
   "outputs": [
    {
     "name": "stdout",
     "output_type": "stream",
     "text": [
      "list1 and list 2 are different names pointing towards the same list:- True\n",
      "list1 and list 2 are different names pointing towards the same list:- True\n",
      "list1 and list3 are different names with different lists, but these lists have the same eleents:- False\n"
     ]
    }
   ],
   "source": [
    "# x==y checks if x & y have the same value\n",
    "# x is y checks if x & y are reffering the same object\n",
    "list1 = [1,3,5,7]\n",
    "list2 = list1\n",
    "#print(list2)\n",
    "\n",
    "list3 = [1,3,5,7]\n",
    "\n",
    "print(\"list1 and list 2 are different names pointing towards the same list:-\", list1 is list2)\n",
    "\n",
    "print(\"list1 and list 2 are different names pointing towards the same list:-\", list2 is list1)\n",
    "\n",
    "print(\"list1 and list3 are different names with different lists, but these lists have the same eleents:-\", list1 is list3)"
   ]
  },
  {
   "cell_type": "code",
   "execution_count": 24,
   "id": "76a8f5d9",
   "metadata": {},
   "outputs": [
    {
     "name": "stdout",
     "output_type": "stream",
     "text": [
      "list4 and list1 are not reffering the same object, they are different list which\n",
      "have same element: False\n"
     ]
    }
   ],
   "source": [
    "list4 = list1[:]\n",
    "print(\"list4 and list1 are not reffering the same object, they are different list which\\nhave same element:\", list1 is list4)"
   ]
  },
  {
   "cell_type": "code",
   "execution_count": 31,
   "id": "34cc9f28",
   "metadata": {},
   "outputs": [
    {
     "name": "stdout",
     "output_type": "stream",
     "text": [
      "values of list1:  [1, 3, 5, 67]\n",
      "values of list4:  [1, 3, 5, 7]\n"
     ]
    }
   ],
   "source": [
    "list2[3] = 67\n",
    "# checking, chaning of list2 is affecting list1 or not\n",
    "print(\"values of list1: \",list1) # it does effect as list1 & list2 both are pointing towards the same object\n",
    "# checking if list4 is effected or not\n",
    "print(\"values of list4: \",list4) # list 4 is no effected, as list4 and list2 are different list(or object) with same element"
   ]
  },
  {
   "cell_type": "code",
   "execution_count": null,
   "id": "d89912c7",
   "metadata": {},
   "outputs": [],
   "source": []
  }
 ],
 "metadata": {
  "kernelspec": {
   "display_name": "Python 3 (ipykernel)",
   "language": "python",
   "name": "python3"
  },
  "language_info": {
   "codemirror_mode": {
    "name": "ipython",
    "version": 3
   },
   "file_extension": ".py",
   "mimetype": "text/x-python",
   "name": "python",
   "nbconvert_exporter": "python",
   "pygments_lexer": "ipython3",
   "version": "3.9.12"
  }
 },
 "nbformat": 4,
 "nbformat_minor": 5
}
