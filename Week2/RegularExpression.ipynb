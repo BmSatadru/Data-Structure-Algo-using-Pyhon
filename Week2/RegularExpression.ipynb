{
 "cells": [
  {
   "cell_type": "code",
   "execution_count": 1,
   "id": "8041415a",
   "metadata": {},
   "outputs": [
    {
     "name": "stdout",
     "output_type": "stream",
     "text": [
      "['t', 't', 't']\n",
      "['Sa', 'adru Bha', '', 'acharya']\n",
      "['Satadru Bha', 'acharya']\n",
      "['', 'S', 'a', 't', 'a', 'd', 'r', 'u', ' ', 'B', 'h', 'a', 't', 't', 'a', 'c', 'h', 'a', 'r', 'y', 'a', '']\n",
      "['Satadru', 'Bhattacharya']\n",
      "['Sa', 'adru Bhattacharya']\n"
     ]
    }
   ],
   "source": [
    "import re\n",
    "#findall\n",
    "#split\n",
    "#search\n",
    "#sub\n",
    "\n",
    "## ---------------------- findall-----------------------##\n",
    "s = \"Satadru Bhattacharya\"\n",
    "print(re.findall('t', s)) \n",
    "## ------------------------------ split-----------------##\n",
    "print(re.split('t', s))\n",
    "print(re.split('tt', s))\n",
    "print(re.split('', s))\n",
    "print(re.split(' ', s))\n",
    "print(re.split('t', s, 1 )) # instead of returning 3 elements in the list it will return 2 element in the list\n"
   ]
  },
  {
   "cell_type": "code",
   "execution_count": 2,
   "id": "1c9ea213",
   "metadata": {},
   "outputs": [
    {
     "name": "stdout",
     "output_type": "stream",
     "text": [
      "<re.Match object; span=(2, 4), match='ta'>\n",
      "<class 're.Match'>\n",
      "2\n",
      "4\n",
      "(2, 4)\n",
      "<class 'tuple'>\n"
     ]
    },
    {
     "data": {
      "text/plain": [
       "'Satadru Bhattacharya'"
      ]
     },
     "execution_count": 2,
     "metadata": {},
     "output_type": "execute_result"
    }
   ],
   "source": [
    "x = re.search('ta', s) # return first occurrence, \n",
    "print(x) # this is printing an object\n",
    "print(type(x)) # clearly this is not any string, tuple etc, it is returnung match object.\n",
    "print(x.start())\n",
    "print(x.end())\n",
    "print(x.span()) \n",
    "print(type(x.span()))\n",
    "x.string"
   ]
  },
  {
   "cell_type": "code",
   "execution_count": 3,
   "id": "f586d90f",
   "metadata": {},
   "outputs": [
    {
     "name": "stdout",
     "output_type": "stream",
     "text": [
      "SAtAdru BhAttAchAryA\n",
      "SAtAdru BhAttacharya\n"
     ]
    }
   ],
   "source": [
    "print(re.sub('a', 'A', s)) # the previous string is being changed , that means 'a' in s is remaining small .\n",
    "# so what I am trying to convey that re.string is not changing the old string\n",
    "print(re.sub('a', 'A', s, 3)) # cnvert only first 3 'a' in s"
   ]
  },
  {
   "cell_type": "markdown",
   "id": "0d1cb699",
   "metadata": {},
   "source": [
    "## Meta Character - Special Sequence - Sets"
   ]
  },
  {
   "cell_type": "code",
   "execution_count": 5,
   "id": "e0f82af1",
   "metadata": {},
   "outputs": [],
   "source": [
    "# What are these meta characters ?? \n",
    "# [] - returns a match if the string contains pattern/characters specified in []\n",
    "# ^ - returns the match if string starts with given pattern\n",
    "# $ - returns the match if the string ends with given pattern\n",
    "# . - it will accept any character except new line\n",
    "# * - It will return a match if theres is any zero or more occurrences of the given pattern\n",
    "# + - One or more occurences of the given pattern\n",
    "# {} - It will return a match if it contains specified number of occurrences\n",
    "# / - Special Sequences"
   ]
  },
  {
   "cell_type": "code",
   "execution_count": 6,
   "id": "bae84bbe",
   "metadata": {},
   "outputs": [],
   "source": [
    "# Special sequences\n",
    "# \\d - if given string having a digits\n",
    "# \\D - returns a match, if given string does not have digits\n",
    "# \\w - return a match if given string having word characters\n",
    "# \\W - returns a match, if given string does not have any word characters\n",
    "# \\s - returns a match if given string have spaces\n",
    "# \\S - does not have any spaces\n",
    "# \\z - ends with specified characters"
   ]
  },
  {
   "cell_type": "code",
   "execution_count": null,
   "id": "6e0dad08",
   "metadata": {},
   "outputs": [],
   "source": [
    "# sets\n",
    "# [abc] - return a match if string contains any of the specified characters\n",
    "# [a-z] - return a match if string contain any character in the specifies range\n",
    "# [^abc] - return a match if string contains character except specified characters\n",
    "# [567] - same as above\n",
    "# [0-9] - same as above\n",
    "# [0-9][0-9] - return a match, if string contain two digit number from 00 to 99\n",
    "# "
   ]
  }
 ],
 "metadata": {
  "kernelspec": {
   "display_name": "Python 3 (ipykernel)",
   "language": "python",
   "name": "python3"
  },
  "language_info": {
   "codemirror_mode": {
    "name": "ipython",
    "version": 3
   },
   "file_extension": ".py",
   "mimetype": "text/x-python",
   "name": "python",
   "nbconvert_exporter": "python",
   "pygments_lexer": "ipython3",
   "version": "3.9.12"
  }
 },
 "nbformat": 4,
 "nbformat_minor": 5
}
